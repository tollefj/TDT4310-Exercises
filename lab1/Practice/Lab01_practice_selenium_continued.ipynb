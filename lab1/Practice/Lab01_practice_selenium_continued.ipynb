{
 "cells": [
  {
   "cell_type": "markdown",
   "id": "64cfb793-e72d-461b-8ee8-b7488a23a73e",
   "metadata": {},
   "source": [
    "# Lab 1 - Practice - Selenium"
   ]
  },
  {
   "cell_type": "code",
   "execution_count": 6,
   "id": "1b264565",
   "metadata": {},
   "outputs": [
    {
     "name": "stderr",
     "output_type": "stream",
     "text": [
      "\n",
      "\n",
      "====== WebDriver manager ======\n",
      "Current google-chrome version is 97.0.4692\n",
      "Get LATEST chromedriver version for 97.0.4692 google-chrome\n",
      "Driver [/Users/tollef/.wdm/drivers/chromedriver/mac64/97.0.4692.71/chromedriver] found in cache\n",
      "/var/folders/0k/1bg63zt532nb9d86g5tk_6vh0000gn/T/ipykernel_61454/1972645700.py:5: DeprecationWarning: executable_path has been deprecated, please pass in a Service object\n",
      "  driver = webdriver.Chrome(ChromeDriverManager().install())\n"
     ]
    }
   ],
   "source": [
    "from selenium import webdriver\n",
    "from webdriver_manager.chrome import ChromeDriverManager\n",
    "from bs4 import BeautifulSoup as BS\n",
    "\n",
    "driver = webdriver.Chrome(ChromeDriverManager().install())\n",
    "ntnu_faculties = \"https://www.ntnu.edu/faculties\"\n",
    "driver.get(ntnu_faculties)\n",
    "\n",
    "content = driver.page_source\n",
    "soup = BS(driver.page_source, features=\"html.parser\")\n",
    "driver.quit()\n"
   ]
  },
  {
   "cell_type": "code",
   "execution_count": 7,
   "id": "dcead7b9",
   "metadata": {},
   "outputs": [
    {
     "name": "stdout",
     "output_type": "stream",
     "text": [
      "current head: Faculty of Architecture and Design (AD)\n",
      "current head: Faculty of Humanities (HF)\n",
      "current head: Faculty of Information Technology and Electrical Engineering (IE)\n",
      "current head: Faculty of Engineering (IV)\n",
      "current head: Faculty of Medicine and Health Sciences (MH)\n",
      "current head: Faculty of Natural Sciences (NV)\n",
      "current head: Faculty of Social and Educational Sciences (SU)\n",
      "current head: Faculty of Economics and Management (OK)\n",
      "current head: NTNU University Museum (VM)\n"
     ]
    }
   ],
   "source": [
    "departments = dict()\n",
    "current_head = None\n",
    "\n",
    "for data in soup.find(class_=\"innholdstekst\"):\n",
    "    tag = data.name\n",
    "    # observe from the page that only \"h2\" and \"ul\" are valid root elements\n",
    "    if tag == \"h2\":\n",
    "        current_head = data.text\n",
    "        print(\"current head: \" + current_head)\n",
    "    if tag == \"ul\":\n",
    "        # get all list elements (note that they are represented as <a>-tags)\n",
    "        all_deps = data.find_all(\"a\", href=True)\n",
    "        # parse the departments into a list of name, url\n",
    "        departments[current_head] = [(dep.text, dep[\"href\"]) for dep in all_deps]\n"
   ]
  },
  {
   "cell_type": "code",
   "execution_count": 9,
   "id": "9b968623-094d-4721-b153-96ddeb333669",
   "metadata": {},
   "outputs": [
    {
     "name": "stderr",
     "output_type": "stream",
     "text": [
      "\n",
      "\n",
      "====== WebDriver manager ======\n",
      "Current google-chrome version is 97.0.4692\n",
      "Get LATEST chromedriver version for 97.0.4692 google-chrome\n",
      "Driver [/Users/tollef/.wdm/drivers/chromedriver/mac64/97.0.4692.71/chromedriver] found in cache\n",
      "/var/folders/0k/1bg63zt532nb9d86g5tk_6vh0000gn/T/ipykernel_61454/4124469402.py:7: DeprecationWarning: executable_path has been deprecated, please pass in a Service object\n",
      "  driver = webdriver.Chrome(ChromeDriverManager().install())\n"
     ]
    }
   ],
   "source": [
    "def find_departments(query):\n",
    "    for faculty in departments.keys():\n",
    "        if query in faculty:\n",
    "            return departments[faculty]\n",
    "    print(\"No faculty found\")\n",
    "\n",
    "driver = webdriver.Chrome(ChromeDriverManager().install())    \n",
    "department_data = dict()\n",
    "\n",
    "for department, url in find_departments(\"IE\"):\n",
    "    driver.get(url)\n",
    "    content = driver.page_source\n",
    "    soup = BS(driver.page_source, features=\"html.parser\")\n",
    "    \n",
    "    department_data[department] = soup\n",
    "\n",
    "driver.quit()"
   ]
  },
  {
   "cell_type": "code",
   "execution_count": 10,
   "id": "e5d85c9d",
   "metadata": {},
   "outputs": [
    {
     "name": "stdout",
     "output_type": "stream",
     "text": [
      "____\n",
      "Department of Computer Science\n",
      "\n",
      "The Department of Computer Science (IDI) conducts research in the fields of: artificial intelligence (AI), big data, computer architecture, computer graphics, computer security, databases, human computer interaction (HCI), information systems, operating systems, software engineering, and search–to mention but a few.\n",
      "IDI is a department at the Faculty of Information Technology and Electrical Engineering.\n",
      "____\n",
      "Department of Electronic Systems\n",
      "\n",
      "Electronic systems are something we take for granted. We use cell phones, computers, fitness sensors, navigation systems and video games like a natural thing. But without electronic systems, none of the electronics surrounding us would have worked.\n",
      "Department of Electronic Systems (IES) teaches and do research into further development of this technology. Today’s and tomorrow’s requirements for advanced communication solutions, energy efficiency, and storage capacity lay the foundation for the Departments work in areas such as microelectronics, wireless technology, navigation, signal and image processing, voice and music technology and nanotechnology.\n",
      "Department of Electronic Systems is one of eight departments at NTNU Faculty of Information Technology and Electrical Engineering. The department is located at Gløshaugen in Trondheim and at Gjøvik.\n",
      "____\n",
      "Department of Electric Power Engineering\n",
      "\n",
      "At the Department of Electric Power Engineering (IEL), the mission is to contribute to the fundamental and applied knowledge of electric power engineering, and to develop technology and systems for the planning, operation and maintenance of efficient, sustainable energy systems. \n",
      "Both research and research-based education at the Department cover the broad interdisciplinary aspects of power engineering: generation, transmission, conversion and the use of electric energy, including the accompanying techno-economic aspects. The Department is one of the seven departments at the Faculty of Information Technology and Electrical Engineering.\n",
      "____\n",
      "Department of ICT and Natural Sciences\n",
      "\n",
      "The Department of ICT and Natural Sciences consists of disciplines within ICT and science. The Department offers three engineering programs at Bachelor´s level and one Master´s programme.\n",
      "____\n",
      "Department of Information Security and Communication Technology\n",
      "\n",
      "The Department of Information Security and Communication Technology (IIK) conducts international competitive research in several areas of cyber security, information security, communication networks and networked services. The department operates study programs in information security and communication technology at PhD, master and bachelor levels.\n",
      "We also host the Center for Cyber and Information Security (CCIS), the SFI Norwegian Centre for Cybersecurity in Critical Sectors (NORCICS) and the national Research School of Computer and Information Security (COINS). IIK is a department at the Faculty of Information Technology and Electrical Engineering.\n",
      " \n",
      "Work with us? See our vacant positions here.\n",
      "____\n",
      "Department of Mathematical Sciences\n",
      "\n",
      "The Department of Mathematical Sciences has been instrumental in promoting the development of NTNU's program for training of science teachers, and works actively to strengthen the recruitment of students for sciences and technology. By teaching the basic courses in mathematics and statistics, the department is responsible for the quality of education for all engineering students at NTNU.\n",
      "We are part of the Faculty of Information Technology and Electrical Engineering.\n",
      "____\n",
      "Department of Engineering Cybernetics\n",
      "\n",
      "Engineering Cybernetics is the interdisciplinary study and automatic control of dynamic systems like robots, aircraft, marine craft, automotive systems, electrical circuits, biological systems, process plants, etc. and their behavior. Cybernetics is closely related to control theory and systems theory. This includes the principles of feedback control and associated stability analysis.\n",
      "The Department of Engineering Cybernetics (ITK) is one of 7 departments at Faculty of Information Technology and Electrical Engineering.\n"
     ]
    }
   ],
   "source": [
    "for dep, soup in department_data.items():\n",
    "    content = soup.find(class_=\"innholdstekst\")\n",
    "    print(\"____\")\n",
    "    print(dep)\n",
    "    print(content.get_text())"
   ]
  },
  {
   "cell_type": "code",
   "execution_count": null,
   "id": "ddd3e122-2c6d-4584-bc79-bb78a13c4d62",
   "metadata": {},
   "outputs": [],
   "source": []
  }
 ],
 "metadata": {
  "kernelspec": {
   "display_name": "Python 3 (ipykernel)",
   "language": "python",
   "name": "python3"
  },
  "language_info": {
   "codemirror_mode": {
    "name": "ipython",
    "version": 3
   },
   "file_extension": ".py",
   "mimetype": "text/x-python",
   "name": "python",
   "nbconvert_exporter": "python",
   "pygments_lexer": "ipython3",
   "version": "3.9.9"
  }
 },
 "nbformat": 4,
 "nbformat_minor": 5
}
