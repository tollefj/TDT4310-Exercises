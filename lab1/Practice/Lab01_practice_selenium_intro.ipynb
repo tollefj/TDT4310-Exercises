{
 "cells": [
  {
   "cell_type": "markdown",
   "id": "64cfb793-e72d-461b-8ee8-b7488a23a73e",
   "metadata": {},
   "source": [
    "# Lab 1 - Practice - Selenium intro"
   ]
  },
  {
   "cell_type": "code",
   "execution_count": 1,
   "id": "ddd3e122-2c6d-4584-bc79-bb78a13c4d62",
   "metadata": {},
   "outputs": [
    {
     "name": "stderr",
     "output_type": "stream",
     "text": [
      "\n",
      "\n",
      "====== WebDriver manager ======\n",
      "Current google-chrome version is 97.0.4692\n",
      "Get LATEST chromedriver version for 97.0.4692 google-chrome\n",
      "Trying to download new driver from https://chromedriver.storage.googleapis.com/97.0.4692.71/chromedriver_mac64.zip\n",
      "Driver has been saved in cache [/Users/tollef/.wdm/drivers/chromedriver/mac64/97.0.4692.71]\n",
      "/var/folders/0k/1bg63zt532nb9d86g5tk_6vh0000gn/T/ipykernel_9755/35382361.py:6: DeprecationWarning: executable_path has been deprecated, please pass in a Service object\n",
      "  driver = webdriver.Chrome(ChromeDriverManager().install())\n"
     ]
    },
    {
     "name": "stdout",
     "output_type": "stream",
     "text": [
      "NTNU's PhD positions are continuously posted online. A doctoral degree from NTNU qualifies you for a range of jobs both in the public and private sectors.\n",
      "Non-EU/non-EEA students: 1 December\n",
      "EU/EEA / students: 1 March\n",
      "Nordic students: 15 April\n",
      "Exchange students who want to take courses at NTNU, or those who want to work with projects, an internship or write their master's thesis.\n",
      "Uncommon lessons learned from the world’s most widespread bird..\n",
      "\n",
      "Listen to NTNU's English podcast, 63 Degrees North\n"
     ]
    }
   ],
   "source": [
    "from selenium import webdriver\n",
    "from webdriver_manager.chrome import ChromeDriverManager\n",
    "from bs4 import BeautifulSoup\n",
    "\n",
    "\n",
    "driver = webdriver.Chrome(ChromeDriverManager().install())\n",
    "# How to call is driver.{METHODE}([URL]) | POST, PUT, GET etc\n",
    "driver.get('https://www.ntnu.edu/')\n",
    "# Pulling the raw HTML from the webpage\n",
    "content = driver.page_source\n",
    "\n",
    "# Parse the HTML in Bs4\n",
    "soup = BeautifulSoup(content, features=\"html.parser\")\n",
    "\n",
    "# Find_all gives a list of all matching HTML documents (divs with class card-body)\n",
    "tabs = soup.find_all('div', attrs={\"class\": \"card-body\"})\n",
    "\n",
    "for tab in tabs:\n",
    "    # They changed the webpage between me writting this script and the lecture....\n",
    "    if (len(tab.select('p.card-text')) >= 1):\n",
    "        # Find text inside tab by using a cssSelector\n",
    "        #NBNB find_all and select do the same thing but in different ways :)\n",
    "        text = tab.select('p.card-text')[0].get_text()\n",
    "        print(text)\n",
    "\n",
    "# Helps to quit the window after use.\n",
    "driver.quit()"
   ]
  },
  {
   "cell_type": "code",
   "execution_count": null,
   "id": "65d9f5fd-ba55-4362-b94c-9574b593aa57",
   "metadata": {},
   "outputs": [],
   "source": []
  }
 ],
 "metadata": {
  "kernelspec": {
   "display_name": "Python 3 (ipykernel)",
   "language": "python",
   "name": "python3"
  },
  "language_info": {
   "codemirror_mode": {
    "name": "ipython",
    "version": 3
   },
   "file_extension": ".py",
   "mimetype": "text/x-python",
   "name": "python",
   "nbconvert_exporter": "python",
   "pygments_lexer": "ipython3",
   "version": "3.9.9"
  }
 },
 "nbformat": 4,
 "nbformat_minor": 5
}
