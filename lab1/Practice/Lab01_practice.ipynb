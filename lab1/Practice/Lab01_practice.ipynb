{
 "cells": [
  {
   "cell_type": "markdown",
   "id": "64cfb793-e72d-461b-8ee8-b7488a23a73e",
   "metadata": {},
   "source": [
    "# Lab 1 - Practice"
   ]
  },
  {
   "cell_type": "code",
   "execution_count": 1,
   "id": "ab39056e-21c6-4272-9223-9292d6aef919",
   "metadata": {},
   "outputs": [],
   "source": [
    "import nltk"
   ]
  },
  {
   "cell_type": "code",
   "execution_count": 2,
   "id": "d6843939-2a21-4881-80af-5599217e1a8a",
   "metadata": {},
   "outputs": [
    {
     "name": "stdout",
     "output_type": "stream",
     "text": [
      "showing info https://raw.githubusercontent.com/nltk/nltk_data/gh-pages/index.xml\n"
     ]
    },
    {
     "data": {
      "text/plain": [
       "True"
      ]
     },
     "execution_count": 2,
     "metadata": {},
     "output_type": "execute_result"
    }
   ],
   "source": [
    "nltk.download()"
   ]
  },
  {
   "cell_type": "code",
   "execution_count": 3,
   "id": "ba51fa98-c6d3-4ed1-a485-8a4f91e2f2e9",
   "metadata": {},
   "outputs": [],
   "source": [
    "# import the gutenberg corpus\n",
    "from nltk.corpus import gutenberg"
   ]
  },
  {
   "cell_type": "code",
   "execution_count": 4,
   "id": "0af940f8-36de-4443-ab01-23c75809df16",
   "metadata": {},
   "outputs": [
    {
     "data": {
      "text/plain": [
       "['austen-emma.txt',\n",
       " 'austen-persuasion.txt',\n",
       " 'austen-sense.txt',\n",
       " 'bible-kjv.txt',\n",
       " 'blake-poems.txt',\n",
       " 'bryant-stories.txt',\n",
       " 'burgess-busterbrown.txt',\n",
       " 'carroll-alice.txt',\n",
       " 'chesterton-ball.txt',\n",
       " 'chesterton-brown.txt',\n",
       " 'chesterton-thursday.txt',\n",
       " 'edgeworth-parents.txt',\n",
       " 'melville-moby_dick.txt',\n",
       " 'milton-paradise.txt',\n",
       " 'shakespeare-caesar.txt',\n",
       " 'shakespeare-hamlet.txt',\n",
       " 'shakespeare-macbeth.txt',\n",
       " 'whitman-leaves.txt']"
      ]
     },
     "execution_count": 4,
     "metadata": {},
     "output_type": "execute_result"
    }
   ],
   "source": [
    "gutenberg.fileids()"
   ]
  },
  {
   "cell_type": "code",
   "execution_count": 8,
   "id": "fab31c8b-d7fe-4106-9b5d-71908d1997e4",
   "metadata": {},
   "outputs": [
    {
     "data": {
      "text/plain": [
       "[['[', 'The', 'Tragedie', 'of', 'Hamlet', 'by', 'William', 'Shakespeare', '1599', ']'], ['Actus', 'Primus', '.'], ...]"
      ]
     },
     "execution_count": 8,
     "metadata": {},
     "output_type": "execute_result"
    }
   ],
   "source": [
    "hamlet = gutenberg.sents(\"shakespeare-hamlet.txt\")\n",
    "hamlet"
   ]
  },
  {
   "cell_type": "code",
   "execution_count": 9,
   "id": "16b5f6dc",
   "metadata": {},
   "outputs": [
    {
     "data": {
      "text/plain": [
       "12.028332260141662"
      ]
     },
     "execution_count": 9,
     "metadata": {},
     "output_type": "execute_result"
    }
   ],
   "source": [
    "sum([len(s) for s in hamlet]) / len(hamlet)"
   ]
  },
  {
   "cell_type": "markdown",
   "id": "6b0356cd-ffae-4abb-b401-cb3f3242fee7",
   "metadata": {},
   "source": [
    "## NLTK functions\n",
    "NLTK provides quite a lot of stuff...\n",
    "\n",
    "Let's access functions available on the Text object"
   ]
  },
  {
   "cell_type": "code",
   "execution_count": 10,
   "id": "8e2fe21c-f6ee-49d1-9706-9e80f60e8e6e",
   "metadata": {},
   "outputs": [
    {
     "name": "stdout",
     "output_type": "stream",
     "text": [
      "*** Introductory Examples for the NLTK Book ***\n",
      "Loading text1, ..., text9 and sent1, ..., sent9\n",
      "Type the name of the text or sentence to view it.\n",
      "Type: 'texts()' or 'sents()' to list the materials.\n",
      "text1: Moby Dick by Herman Melville 1851\n",
      "text2: Sense and Sensibility by Jane Austen 1811\n",
      "text3: The Book of Genesis\n",
      "text4: Inaugural Address Corpus\n",
      "text5: Chat Corpus\n",
      "text6: Monty Python and the Holy Grail\n",
      "text7: Wall Street Journal\n",
      "text8: Personals Corpus\n",
      "text9: The Man Who Was Thursday by G . K . Chesterton 1908\n"
     ]
    }
   ],
   "source": [
    "from nltk.book import *"
   ]
  },
  {
   "cell_type": "code",
   "execution_count": 11,
   "id": "2901faae-2a64-4ffb-840f-ea7721a5ac6b",
   "metadata": {},
   "outputs": [
    {
     "data": {
      "text/plain": [
       "['_CONTEXT_RE',\n",
       " '_COPY_TOKENS',\n",
       " '_context',\n",
       " '_train_default_ngram_lm',\n",
       " 'collocation_list',\n",
       " 'collocations',\n",
       " 'common_contexts',\n",
       " 'concordance',\n",
       " 'concordance_list',\n",
       " 'count',\n",
       " 'dispersion_plot',\n",
       " 'findall',\n",
       " 'generate',\n",
       " 'index',\n",
       " 'name',\n",
       " 'plot',\n",
       " 'readability',\n",
       " 'similar',\n",
       " 'tokens',\n",
       " 'vocab']"
      ]
     },
     "execution_count": 11,
     "metadata": {},
     "output_type": "execute_result"
    }
   ],
   "source": [
    "[fn for fn in dir(text1) if \"__\" not in fn]"
   ]
  },
  {
   "cell_type": "code",
   "execution_count": 12,
   "id": "d842eff0-5f78-472a-af39-ae25787fe6d8",
   "metadata": {},
   "outputs": [
    {
     "name": "stdout",
     "output_type": "stream",
     "text": [
      "Displaying 25 of 169 matches:\n",
      "to teach them by what name a whale - fish is to be called in our tongue leavin\n",
      " \" Now the Lord had prepared a great fish to swallow up Jonah .\" -- JONAH . \" \n",
      " and robbers , is the right to royal fish , which are whale and sturgeon . And\n",
      " the vast Atlantic is ; Not a fatter fish than he , Flounders round the Polar \n",
      " bright red windows of the \" Sword - Fish Inn ,\" there came such fervent rays \n",
      "rossed Harpoons ,\" and \" The Sword - Fish ?\"-- this , then must needs be the s\n",
      "ar a faint resemblance to a gigantic fish ? even the great leviathan himself ?\n",
      "here was a parcel of outlandish bone fish hooks on the shelf over the fire - p\n",
      "nah --' And God had prepared a great fish to swallow up Jonah .'\" \" Shipmates \n",
      " noble thing is that canticle in the fish ' s belly ! How billow - like and bo\n",
      "onah prayed unto the Lord out of the fish ' s belly . But observe his prayer ,\n",
      "n he cried . Then God spake unto the fish ; and from the shuddering cold and b\n",
      " disdain , \" ah ! him bevy small - e fish - e ; Queequeg no kill - e so small \n",
      " ; Queequeg no kill - e so small - e fish - e ; Queequeg kill - e big whale !\"\n",
      " supper , till you began to look for fish - bones coming through your clothes \n",
      "aw Hosea ' s brindled cow feeding on fish remnants , and marching along the sa\n",
      "whale - boat ? did you ever strike a fish ?\" Without saying a word , Queequeg \n",
      "aw , the whale is declared \" a royal fish .\"* Oh , that ' s only nominal ! The\n",
      "n ; nor for persisting in fighting a fish that too much persisted in fighting \n",
      "matter of whales ; he followed these fish for the fun of it ; and a three year\n",
      "ns a moot point whether a whale be a fish . In his System of Nature , A . D . \n",
      " hereby separate the whales from the fish .\" But of my own knowledge , I know \n",
      "fashioned ground that the whale is a fish , and call upon holy Jonah to back m\n",
      "ect does the whale differ from other fish . Above , Linnaeus has given you tho\n",
      "and warm blood ; whereas , all other fish are lungless and cold blooded . Next\n"
     ]
    }
   ],
   "source": [
    "text1.concordance(\"fish\")"
   ]
  },
  {
   "cell_type": "code",
   "execution_count": 14,
   "id": "75730b12-470e-44f9-a996-0868c9055627",
   "metadata": {},
   "outputs": [
    {
     "name": "stdout",
     "output_type": "stream",
     "text": [
      "whale boat ship wind sea way captain line body world man mate time\n",
      "carpenter leviathan thing crew chase harpoon pequod\n"
     ]
    }
   ],
   "source": [
    "text1.similar(\"fish\")"
   ]
  },
  {
   "cell_type": "code",
   "execution_count": 15,
   "id": "ef31a140-0931-463b-8241-01237f91f807",
   "metadata": {},
   "outputs": [
    {
     "name": "stdout",
     "output_type": "stream",
     "text": [
      "fast_what loose_what the_s the_and fast_and loose_and great_to e_e\n",
      "a_that these_for other_are spouting_with sword_and the_all loose_is\n",
      "a_is whale_is royal_which fatter_than sword_inn\n"
     ]
    }
   ],
   "source": [
    "text1.common_contexts([\"fish\"])"
   ]
  },
  {
   "cell_type": "code",
   "execution_count": 16,
   "id": "e4b6baf0-c7fc-454f-a5f2-ebcc32e653ee",
   "metadata": {},
   "outputs": [
    {
     "data": {
      "image/png": "[encoded data removed]",
      "text/plain": [
       "<Figure size 432x288 with 1 Axes>"
      ]
     },
     "metadata": {
      "needs_background": "light"
     },
     "output_type": "display_data"
    }
   ],
   "source": [
    "text1.dispersion_plot([\"fish\", \"dog\"])"
   ]
  },
  {
   "cell_type": "markdown",
   "id": "fdbe776f-7efc-4826-b8c3-361e1b4f05a0",
   "metadata": {},
   "source": [
    "## Basic operations\n",
    "Length, uniqueness (diversity), sentence operations, ..."
   ]
  },
  {
   "cell_type": "code",
   "execution_count": null,
   "id": "0bef674e-631d-4878-ab77-afb7917b44e4",
   "metadata": {},
   "outputs": [],
   "source": [
    "print(\"Total tokens: {}\".format(len(text1)))"
   ]
  },
  {
   "cell_type": "code",
   "execution_count": null,
   "id": "8dfd17c1-7c87-4eaf-b899-283563d3e3f5",
   "metadata": {},
   "outputs": [],
   "source": [
    "print(\"Unique tokens: {}\".format(len(set(text1))))"
   ]
  },
  {
   "cell_type": "code",
   "execution_count": null,
   "id": "1e09213b-b714-4398-a765-121369b7e209",
   "metadata": {},
   "outputs": [],
   "source": [
    "text1[0:10]"
   ]
  },
  {
   "cell_type": "code",
   "execution_count": null,
   "id": "affdfe11-0283-4a66-a5f9-a67832b8775b",
   "metadata": {},
   "outputs": [],
   "source": [
    "text1.index(\"Ishmael\")"
   ]
  },
  {
   "cell_type": "code",
   "execution_count": null,
   "id": "e5bd3ff2-c530-44c3-9df9-ff369545b1ab",
   "metadata": {},
   "outputs": [],
   "source": [
    "text1[4710:4720]"
   ]
  },
  {
   "cell_type": "markdown",
   "id": "78923ee4-ac5d-4067-9efa-a4bfdde951ba",
   "metadata": {},
   "source": [
    "## Conditional Frequency Distribution\n",
    "Using the state-of-the-union corpus"
   ]
  },
  {
   "cell_type": "code",
   "execution_count": null,
   "id": "bf3f7d5a-9e94-4eb2-802c-b155e646ce8d",
   "metadata": {},
   "outputs": [],
   "source": [
    "from nltk.corpus import state_union\n",
    "\n",
    "# increase default plot size\n",
    "import matplotlib.pyplot as plt\n",
    "plt.figure(figsize=(30, 20))\n",
    "\n",
    "cfd = nltk.ConditionalFreqDist(\n",
    "    (target, fileid[:4])\n",
    "    # For each file\n",
    "    for fileid in state_union.fileids()\n",
    "    # Find all the words\n",
    "    for w in state_union.words(fileid)\n",
    "    for target in ['men', 'women', 'people']\n",
    "    # filter out so we only return words in target\n",
    "    if w.lower() == target)\n",
    "cfd.plot()\n"
   ]
  },
  {
   "cell_type": "code",
   "execution_count": null,
   "id": "a1c76f28-8e2c-4a78-981b-ee02046b0ddd",
   "metadata": {},
   "outputs": [],
   "source": [
    "# FileIds are found by nltk.corpus.[corpus_name].fileids(), this is the names of the files within the corpus\n",
    "fileids = nltk.corpus.brown.fileids()\n",
    "output = {}\n",
    "for ID in fileids:\n",
    "    # Getting a given document can be done as following : nltk.corpus.[corpus_name].[split_type](fileids=[ID])\n",
    "    sentences = nltk.corpus.brown.sents(fileids=ID)\n",
    "    average_length = sum([len(sent) for sent in sentences])/len(sentences)\n",
    "    output[ID] = average_length\n",
    "\n",
    "# Equal length lists to represent the values in x and y directions\n",
    "x_axis = list(output.keys())\n",
    "y_axis = list(output.values())\n",
    "\n",
    "plt.figure(figsize=(100, 20))\n",
    "# using a bar graph, you can use .plot to get points or lines if applicable\n",
    "plt.bar(x_axis, y_axis)\n",
    "plt.xticks(rotation=90)\n",
    "\n",
    "# Show the graph\n",
    "plt.show()"
   ]
  },
  {
   "cell_type": "code",
   "execution_count": null,
   "id": "0cf329d6-09a7-4ab9-9e1b-7a61f24849ef",
   "metadata": {},
   "outputs": [],
   "source": []
  }
 ],
 "metadata": {
  "kernelspec": {
   "display_name": "Python 3 (ipykernel)",
   "language": "python",
   "name": "python3"
  },
  "language_info": {
   "codemirror_mode": {
    "name": "ipython",
    "version": 3
   },
   "file_extension": ".py",
   "mimetype": "text/x-python",
   "name": "python",
   "nbconvert_exporter": "python",
   "pygments_lexer": "ipython3",
   "version": "3.9.9"
  }
 },
 "nbformat": 4,
 "nbformat_minor": 5
}
