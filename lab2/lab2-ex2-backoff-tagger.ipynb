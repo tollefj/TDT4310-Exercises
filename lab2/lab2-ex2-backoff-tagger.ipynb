{
 "cells": [
  {
   "cell_type": "code",
   "execution_count": 1,
   "id": "3cb6804a-1d9b-400f-993a-6d574ad8a2ca",
   "metadata": {},
   "outputs": [],
   "source": [
    "import nltk\n",
    "from sklearn.model_selection import train_test_split as split\n",
    "from nltk.tag import DefaultTagger, UnigramTagger"
   ]
  },
  {
   "cell_type": "code",
   "execution_count": 2,
   "id": "5c09aad9-afe0-4743-a58d-95fbcd2a597f",
   "metadata": {},
   "outputs": [],
   "source": [
    "tagged = nltk.corpus.brown.tagged_sents()\n",
    "\n",
    "train_50, test_50 = split(tagged, test_size=0.5)"
   ]
  },
  {
   "cell_type": "code",
   "execution_count": 3,
   "id": "5720447b-25ae-4a07-afea-d84d73bd2a19",
   "metadata": {},
   "outputs": [],
   "source": [
    "# set a basic tagger that defaults to nouns (NN)\n",
    "default = DefaultTagger(\"NN\")\n",
    "uni = UnigramTagger(train=train_50, backoff=default)"
   ]
  },
  {
   "cell_type": "code",
   "execution_count": 4,
   "id": "5fdf198d-fa70-41ac-9fe7-23b81528601c",
   "metadata": {},
   "outputs": [
    {
     "data": {
      "text/plain": [
       "0.13139046082011704"
      ]
     },
     "execution_count": 4,
     "metadata": {},
     "output_type": "execute_result"
    }
   ],
   "source": [
    "default.accuracy(test_50)"
   ]
  },
  {
   "cell_type": "code",
   "execution_count": 5,
   "id": "93ef2574-ea3c-494d-98ef-6141a27026e4",
   "metadata": {},
   "outputs": [
    {
     "data": {
      "text/plain": [
       "0.8944834697206387"
      ]
     },
     "execution_count": 5,
     "metadata": {},
     "output_type": "execute_result"
    }
   ],
   "source": [
    "uni.accuracy(test_50)"
   ]
  },
  {
   "cell_type": "code",
   "execution_count": 6,
   "id": "3d8e2de4-5e29-401b-ae44-d595b0fd210c",
   "metadata": {},
   "outputs": [
    {
     "name": "stdout",
     "output_type": "stream",
     "text": [
      " Tag | Prec.  | Recall | F-measure\n",
      "-----+--------+--------+-----------\n",
      "  NN | 0.7758 | 0.9464 | 0.8527\n",
      "  IN | 0.9431 | 0.8893 | 0.9154\n",
      "  AT | 0.9849 | 1.0000 | 0.9924\n",
      "  JJ | 0.9082 | 0.8657 | 0.8865\n",
      "   . | 0.9904 | 0.9991 | 0.9947\n",
      "   , | 0.9971 | 0.9999 | 0.9985\n",
      " NNS | 0.9605 | 0.8955 | 0.9269\n",
      "  CC | 0.9815 | 0.9965 | 0.9890\n",
      "  RB | 0.8991 | 0.8154 | 0.8552\n",
      "  NP | 0.8997 | 0.8045 | 0.8494\n",
      "  VB | 0.8674 | 0.7700 | 0.8158\n",
      " VBN | 0.7545 | 0.7344 | 0.7443\n",
      " VBD | 0.7661 | 0.7036 | 0.7335\n",
      "  CS | 0.7575 | 0.9124 | 0.8278\n",
      " PPS | 0.8609 | 0.9999 | 0.9252\n",
      " VBG | 0.9021 | 0.8280 | 0.8635\n",
      " PP$ | 0.9353 | 0.9982 | 0.9658\n",
      "  TO | 0.5737 | 1.0000 | 0.7291\n",
      "PPSS | 0.9320 | 0.9973 | 0.9635\n",
      "  CD | 0.8706 | 0.9155 | 0.8925\n",
      "\n"
     ]
    }
   ],
   "source": [
    "print(uni.evaluate_per_tag(test_50, truncate=20, sort_by_count=True))"
   ]
  },
  {
   "cell_type": "code",
   "execution_count": 7,
   "id": "ef9fed8d-cbd7-42b9-9dec-fdd7eed9dc68",
   "metadata": {},
   "outputs": [
    {
     "data": {
      "text/plain": [
       "['__abstractmethods__',\n",
       " '__class__',\n",
       " '__delattr__',\n",
       " '__dict__',\n",
       " '__dir__',\n",
       " '__doc__',\n",
       " '__eq__',\n",
       " '__format__',\n",
       " '__ge__',\n",
       " '__getattribute__',\n",
       " '__gt__',\n",
       " '__hash__',\n",
       " '__init__',\n",
       " '__init_subclass__',\n",
       " '__le__',\n",
       " '__lt__',\n",
       " '__module__',\n",
       " '__ne__',\n",
       " '__new__',\n",
       " '__reduce__',\n",
       " '__reduce_ex__',\n",
       " '__repr__',\n",
       " '__setattr__',\n",
       " '__sizeof__',\n",
       " '__str__',\n",
       " '__subclasshook__',\n",
       " '__weakref__',\n",
       " '_abc_impl',\n",
       " '_check_params',\n",
       " '_confusion_cached',\n",
       " '_context_to_tag',\n",
       " '_n',\n",
       " '_taggers',\n",
       " '_train',\n",
       " 'accuracy',\n",
       " 'backoff',\n",
       " 'choose_tag',\n",
       " 'confusion',\n",
       " 'context',\n",
       " 'decode_json_obj',\n",
       " 'encode_json_obj',\n",
       " 'evaluate',\n",
       " 'evaluate_per_tag',\n",
       " 'f_measure',\n",
       " 'json_tag',\n",
       " 'precision',\n",
       " 'recall',\n",
       " 'size',\n",
       " 'tag',\n",
       " 'tag_one',\n",
       " 'tag_sents']"
      ]
     },
     "execution_count": 7,
     "metadata": {},
     "output_type": "execute_result"
    }
   ],
   "source": [
    "dir(uni)"
   ]
  }
 ],
 "metadata": {
  "kernelspec": {
   "display_name": "Python 3 (ipykernel)",
   "language": "python",
   "name": "python3"
  },
  "language_info": {
   "codemirror_mode": {
    "name": "ipython",
    "version": 3
   },
   "file_extension": ".py",
   "mimetype": "text/x-python",
   "name": "python",
   "nbconvert_exporter": "python",
   "pygments_lexer": "ipython3",
   "version": "3.9.9"
  }
 },
 "nbformat": 4,
 "nbformat_minor": 5
}
