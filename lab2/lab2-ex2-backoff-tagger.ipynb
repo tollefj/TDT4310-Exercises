{
 "cells": [
  {
   "cell_type": "code",
   "execution_count": 2,
   "id": "3cb6804a-1d9b-400f-993a-6d574ad8a2ca",
   "metadata": {},
   "outputs": [],
   "source": [
    "import nltk\n",
    "from sklearn.model_selection import train_test_split as split\n",
    "from nltk.tag import DefaultTagger, UnigramTagger, BigramTagger, TrigramTagger"
   ]
  },
  {
   "cell_type": "code",
   "execution_count": 3,
   "id": "5c09aad9-afe0-4743-a58d-95fbcd2a597f",
   "metadata": {},
   "outputs": [],
   "source": [
    "tagged = nltk.corpus.brown.tagged_sents()\n",
    "\n",
    "train_50, test_50 = split(tagged, test_size=0.5)"
   ]
  },
  {
   "cell_type": "code",
   "execution_count": 7,
   "id": "5720447b-25ae-4a07-afea-d84d73bd2a19",
   "metadata": {},
   "outputs": [],
   "source": [
    "# set a basic tagger that defaults to nouns (NN)\n",
    "default = DefaultTagger(\"NN\")\n",
    "uni = UnigramTagger(train=train_50, backoff=default)\n",
    "bi = BigramTagger(train=train_50, backoff=uni)\n",
    "tri = TrigramTagger(train=train_50, backoff=bi)\n",
    "\n",
    "taggers = {\n",
    "    \"Default (no backoff)\":   default,\n",
    "    \"Unigram (backoff: def)\": uni,\n",
    "    \"Bigram (backoff: uni)\":  bi,\n",
    "    \"Trigram (backoff: bi)\":  tri\n",
    "}"
   ]
  },
  {
   "cell_type": "code",
   "execution_count": 8,
   "id": "5fdf198d-fa70-41ac-9fe7-23b81528601c",
   "metadata": {},
   "outputs": [
    {
     "name": "stdout",
     "output_type": "stream",
     "text": [
      "Default (no backoff) acc:\t\t0.13081291573180007\n",
      "Unigram (backoff: def) acc:\t\t0.8940641647595675\n",
      "Bigram (backoff: uni) acc:\t\t0.913110436991572\n",
      "Trigram (backoff: bi) acc:\t\t0.9132363314023775\n"
     ]
    }
   ],
   "source": [
    "for name, tagger in taggers.items():\n",
    "    print(\"{} acc:\\t\\t{}\".format(name, tagger.accuracy(test_50)))"
   ]
  },
  {
   "cell_type": "code",
   "execution_count": 15,
   "id": "3d8e2de4-5e29-401b-ae44-d595b0fd210c",
   "metadata": {},
   "outputs": [
    {
     "name": "stdout",
     "output_type": "stream",
     "text": [
      "Default (no backoff) acc:\t\tTag | Prec.  | Recall | F-measure\n",
      "----+--------+--------+-----------\n",
      " NN | 0.1308 | 1.0000 | 0.2314\n",
      " IN | 0.0000 | 0.0000 | 0.0000\n",
      " AT | 0.0000 | 0.0000 | 0.0000\n",
      " JJ | 0.0000 | 0.0000 | 0.0000\n",
      "  . | 0.0000 | 0.0000 | 0.0000\n",
      "\n",
      "Unigram (backoff: def) acc:\t\tTag | Prec.  | Recall | F-measure\n",
      "----+--------+--------+-----------\n",
      " NN | 0.7740 | 0.9473 | 0.8519\n",
      " IN | 0.9481 | 0.8844 | 0.9152\n",
      " AT | 0.9848 | 1.0000 | 0.9923\n",
      " JJ | 0.9075 | 0.8600 | 0.8831\n",
      "  . | 0.9904 | 0.9992 | 0.9948\n",
      "\n",
      "Bigram (backoff: uni) acc:\t\tTag | Prec.  | Recall | F-measure\n",
      "----+--------+--------+-----------\n",
      " NN | 0.7880 | 0.9658 | 0.8679\n",
      " IN | 0.9288 | 0.9272 | 0.9280\n",
      " AT | 0.9920 | 0.9976 | 0.9948\n",
      " JJ | 0.9173 | 0.8639 | 0.8898\n",
      "  . | 0.9934 | 0.9977 | 0.9955\n",
      "\n",
      "Trigram (backoff: bi) acc:\t\tTag | Prec.  | Recall | F-measure\n",
      "----+--------+--------+-----------\n",
      " NN | 0.7880 | 0.9659 | 0.8680\n",
      " IN | 0.9351 | 0.9244 | 0.9297\n",
      " AT | 0.9928 | 0.9971 | 0.9950\n",
      " JJ | 0.9216 | 0.8572 | 0.8882\n",
      "  . | 0.9932 | 0.9981 | 0.9956\n",
      "\n"
     ]
    }
   ],
   "source": [
    "for name, tagger in taggers.items():\n",
    "    print(\"{} acc:\\t\\t{}\".format(\n",
    "        name,\n",
    "        tagger.evaluate_per_tag(test_50, truncate=5, sort_by_count=True)))\n",
    "    "
   ]
  },
  {
   "cell_type": "code",
   "execution_count": 10,
   "id": "ef9fed8d-cbd7-42b9-9dec-fdd7eed9dc68",
   "metadata": {},
   "outputs": [
    {
     "data": {
      "text/plain": [
       "['__abstractmethods__',\n",
       " '__class__',\n",
       " '__delattr__',\n",
       " '__dict__',\n",
       " '__dir__',\n",
       " '__doc__',\n",
       " '__eq__',\n",
       " '__format__',\n",
       " '__ge__',\n",
       " '__getattribute__',\n",
       " '__gt__',\n",
       " '__hash__',\n",
       " '__init__',\n",
       " '__init_subclass__',\n",
       " '__le__',\n",
       " '__lt__',\n",
       " '__module__',\n",
       " '__ne__',\n",
       " '__new__',\n",
       " '__reduce__',\n",
       " '__reduce_ex__',\n",
       " '__repr__',\n",
       " '__setattr__',\n",
       " '__sizeof__',\n",
       " '__str__',\n",
       " '__subclasshook__',\n",
       " '__weakref__',\n",
       " '_abc_impl',\n",
       " '_check_params',\n",
       " '_confusion_cached',\n",
       " '_context_to_tag',\n",
       " '_n',\n",
       " '_taggers',\n",
       " '_train',\n",
       " 'accuracy',\n",
       " 'backoff',\n",
       " 'choose_tag',\n",
       " 'confusion',\n",
       " 'context',\n",
       " 'decode_json_obj',\n",
       " 'encode_json_obj',\n",
       " 'evaluate',\n",
       " 'evaluate_per_tag',\n",
       " 'f_measure',\n",
       " 'json_tag',\n",
       " 'precision',\n",
       " 'recall',\n",
       " 'size',\n",
       " 'tag',\n",
       " 'tag_one',\n",
       " 'tag_sents']"
      ]
     },
     "execution_count": 10,
     "metadata": {},
     "output_type": "execute_result"
    }
   ],
   "source": [
    "dir(uni)"
   ]
  },
  {
   "cell_type": "code",
   "execution_count": null,
   "id": "1e7a4346-72c4-4a51-a6ce-13635a60882f",
   "metadata": {},
   "outputs": [],
   "source": []
  }
 ],
 "metadata": {
  "kernelspec": {
   "display_name": "Python 3.9.7 64-bit ('base': conda)",
   "language": "python",
   "name": "python397jvsc74a57bd029553384b1b01f6109f5069a08d409f2dc5adeb046ccd0e94d694cc3c1cd07a6"
  },
  "language_info": {
   "codemirror_mode": {
    "name": "ipython",
    "version": 3
   },
   "file_extension": ".py",
   "mimetype": "text/x-python",
   "name": "python",
   "nbconvert_exporter": "python",
   "pygments_lexer": "ipython3",
   "version": "3.9.9"
  }
 },
 "nbformat": 4,
 "nbformat_minor": 5
}
