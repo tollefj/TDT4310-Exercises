{
 "cells": [
  {
   "cell_type": "code",
   "execution_count": 2,
   "id": "bbc1d173",
   "metadata": {},
   "outputs": [],
   "source": [
    "import nltk\n",
    "from collections import defaultdict"
   ]
  },
  {
   "cell_type": "code",
   "execution_count": 3,
   "id": "b191048f",
   "metadata": {},
   "outputs": [],
   "source": [
    "corpus = nltk.corpus.gutenberg\n",
    "bible = 'bible-kjv.txt'\n",
    "bible_words = corpus.words(bible)"
   ]
  },
  {
   "cell_type": "code",
   "execution_count": 4,
   "id": "af087ac8",
   "metadata": {},
   "outputs": [],
   "source": [
    "bible_pos = nltk.pos_tag(bible_words)"
   ]
  },
  {
   "cell_type": "code",
   "execution_count": 7,
   "id": "f010860e",
   "metadata": {},
   "outputs": [
    {
     "name": "stdout",
     "output_type": "stream",
     "text": [
      "unto: {'NN', 'NNS', 'VBD', 'CC', 'RP', 'JJ', 'VBP', 'VB', 'RBR', 'NNP', 'PRP$', 'MD', 'VBZ', 'RB', 'IN'}\n",
      "forth: {'NN', 'NNS', 'VBD', 'RP', 'JJS', 'JJ', 'VBP', 'VB', 'VBN', 'PDT', 'VBZ', 'RB', 'IN'}\n",
      "hath: {'NN', 'VBD', 'PRP', 'JJ', 'VBP', 'VB', 'PDT', 'MD', 'VBZ', 'RB', 'IN'}\n",
      "wherein: {'NN', 'VBD', 'CC', 'JJ', 'JJR', 'VBP', \"''\", 'WDT', 'VB', 'EX', 'RB', 'NNP', 'WRB', 'VBZ', 'WP', 'IN'}\n",
      "behold: {'NN', 'UH', 'VBD', 'CC', 'JJ', 'VBP', 'VB', 'VBN', 'RB'}\n",
      "till: {'NN', 'CC', 'JJ', 'VBP', 'VB', 'EX', 'VBZ', 'RB', 'IN'}\n",
      "evil: {'NN', 'NNS', 'VBD', 'CC', 'JJ', 'VBP', 'VB', 'VBN', 'EX', 'VBZ', 'RB', 'FW'}\n",
      "goeth: {'NN', 'NNS', 'VBD', 'JJ', 'VBP', 'VBG', 'VB', 'VBZ', 'RB'}\n",
      "thou: {'NN', 'NNS', 'VBD', 'PRP', 'CC', 'RP', 'JJ', 'JJR', 'VBP', \"''\", 'VB', 'VBN', 'EX', 'NNP', 'MD', 'VBZ', 'RB', 'IN'}\n",
      "eat: {'NN', 'VBD', 'JJ', 'VBP', 'VB', 'NNP', 'VBZ', 'RB', 'IN'}\n",
      "shalt: {'NN', 'NNS', 'VBD', 'PRP', 'JJ', 'JJR', 'VBP', 'VB', 'VBN', 'MD', 'VBZ', 'RB', 'FW'}\n",
      "thereof: {'NN', 'NNS', 'VBD', 'PRP', 'RP', 'JJ', 'VBP', 'WDT', 'VB', 'EX', 'VBZ', 'RB'}\n",
      "meet: {'NN', 'NNS', 'VBD', 'JJ', 'VBP', 'VB', 'VBN', 'VBZ', 'RB', 'FW'}\n",
      "whatsoever: {'NN', 'CC', 'WP', 'JJ', 'WDT', 'VB', 'WRB', 'RB', 'IN'}\n",
      "ye: {'PRP', 'JJR', 'VBG', 'RB', 'UH', 'JJ', \"''\", 'VB', 'RBR', 'PDT', 'MD', 'FW', 'NN', 'NNS', 'CC', 'RP', 'VBP', 'VBN', 'EX', 'VBZ', 'VBD', 'POS', 'CD', 'JJS', 'NNP', 'IN'}\n",
      "doth: {'NN', 'NNS', 'VBD', 'CC', 'POS', 'DT', 'JJ', 'VBP', 'VBG', 'VB', 'FW', 'NNP', 'PDT', 'MD', 'VBZ', 'RB', 'IN'}\n",
      "wise: {'NN', 'JJS', 'JJ', 'VBP', 'WDT', 'VB', 'VBN', 'RB', 'IN'}\n",
      "heard: {'NN', 'NNS', 'VBD', 'JJ', 'VBP', 'VB', 'VBN', 'NNP', 'PDT', 'VBZ', 'RB'}\n",
      "hid: {'NN', 'VBD', 'PRP', 'JJ', 'VBP', 'VB', 'VBN', 'VBZ', 'RB'}\n",
      "art: {'NN', 'VBD', 'RP', 'JJ', 'VBP', 'VB', 'VBZ', 'RB', 'IN'}\n",
      "thy: {'NN', 'NNS', 'VBD', 'CC', 'RP', 'JJ', 'VBP', 'VB', 'VBN', 'NNP', 'EX', 'VBZ', 'RB', 'IN'}\n",
      "afraid: {'NN', 'NNS', 'VBD', 'RP', 'JJ', 'VB', 'VBN', 'RB', 'IN'}\n",
      "thee: {'NN', 'NNS', 'PRP', 'VBD', 'CC', 'RP', 'JJ', 'VBP', 'VBG', 'VB', 'VBN', 'EX', 'PDT', 'MD', 'VBZ', 'RB', 'IN'}\n",
      "whereof: {'NN', 'VBD', 'CC', 'JJ', 'VBP', 'VB', 'VBZ', 'WP', 'IN'}\n",
      "hast: {'NN', 'NNS', 'VBD', 'PRP', 'VBZ', 'JJS', 'JJ', 'RBS', 'VBP', 'VB', 'VBN', 'MD', 'PRP$', 'RB'}\n",
      "sin: {'NN', 'VBD', 'JJ', 'VBP', 'VB', 'VBN', 'NNP', 'VBZ', 'RB'}\n",
      "whosoever: {'NN', 'JJ', 'VBP', 'WDT', 'VB', 'RB', 'WRB', 'WP', 'IN'}\n",
      "dwelt: {'NN', 'NNS', 'VBD', 'VBP', 'VB', 'VBN', 'NNP', 'VBZ', 'RB', 'IN'}\n",
      "twelve: {'NN', 'NNS', 'RP', 'CD', 'JJ', 'VBP', 'VB', 'VBN', 'RB', 'IN'}\n",
      "ten: {'NN', 'NNS', 'CC', 'RP', 'CD', 'JJ', 'VBP', 'VB', 'VBN', 'VBZ', 'RB'}\n",
      "mighty: {'NN', 'NNS', 'JJS', 'JJ', 'JJR', 'VBP', 'VBN', 'NNP', 'RB', 'FW'}\n",
      "gather: {'NN', 'VBD', 'CC', 'JJ', 'JJR', 'VBP', 'VB', 'VBZ', 'RB', 'IN'}\n",
      "lo: {'NN', 'CC', 'JJ', 'JJR', 'VB', 'RB', 'VBZ', 'UH', 'FW'}\n",
      "smite: {'NN', 'VBD', 'CC', 'JJ', 'JJR', 'VBP', 'VB', 'PDT', 'VBZ'}\n",
      "therein: {'NN', 'NNS', 'VBD', 'RP', 'JJ', 'VBP', 'VB', 'VBN', 'EX', 'VBZ', 'RB', 'IN'}\n",
      ",): {'NN', 'NNS', 'VBD', 'JJ', 'VBP', 'VB', 'FW', 'NNP', 'VBZ', 'RB', 'IN'}\n",
      "shew: {'NN', 'VBD', 'CC', 'JJ', 'JJR', 'VBP', 'VB', 'VBZ', 'RB'}\n",
      "therefore: {'NN', 'VBD', 'CC', 'JJR', 'VBP', 'VB', 'VBN', 'EX', 'RB', 'IN'}\n",
      "wilt: {'NN', 'NNS', 'VBD', 'WRB', 'JJS', 'JJ', 'VBP', \"''\", 'VB', 'MD', 'VBZ', 'WP', 'IN'}\n",
      ";): {'NN', 'NNS', 'VBD', 'JJ', 'VBP', 'VB', '$', 'NNP', 'PDT', 'VBZ', 'RB', 'FW'}\n",
      "whither: {'NN', 'PRP', 'CC', 'VBD', 'VBZ', 'WP', 'JJR', 'VBP', 'PRP$', 'RB', 'IN'}\n",
      "yea: {'NN', 'NNS', 'PRP', 'CC', 'JJ', 'VBN', 'RB', 'UH', 'FW'}\n",
      "sat: {'NN', 'VBD', 'JJ', 'JJR', 'VBP', 'VB', 'VBN', 'VBZ', 'RB'}\n",
      "favour: {'NN', 'NNS', 'CD', 'JJ', 'VBP', 'VB', 'RBR', 'VBN', 'RB'}\n",
      "mercy: {'NN', 'NNS', 'PRP', 'JJ', 'VB', 'VBN', 'VBZ', 'RB', 'FW'}\n",
      "thither: {'NN', 'PRP', 'CC', 'RP', 'JJR', 'VBP', 'MD', 'RB', 'IN'}\n",
      "lie: {'NN', 'NNS', 'VBD', 'CC', 'VBP', 'VB', 'VBN', 'VBZ', 'RB', 'FW'}\n",
      "thousand: {'NN', 'NNS', 'CD', 'JJ', 'JJR', 'VBP', 'VB', 'RB', 'IN'}\n",
      "fast: {'NN', 'NNS', 'VBD', 'JJS', 'JJ', 'VBP', 'VB', 'VBN', 'RB'}\n",
      "afar: {'NN', 'NNS', 'VBD', 'PRP', 'RP', 'VBP', 'VB', 'VBN', 'VBZ', 'RB', 'IN'}\n",
      "worship: {'NN', 'VBD', 'CC', 'JJ', 'VBP', 'VB', 'VBN', 'VBZ', 'WP'}\n",
      "saith: {'NN', 'VBD', 'JJ', 'VBP', \"''\", 'VB', 'PDT', 'VBZ', 'RB', 'FW'}\n",
      "cometh: {'NN', 'NNS', 'VBD', 'JJ', 'VBP', 'VB', 'RBR', 'VBZ', 'RB'}\n",
      "toucheth: {'NN', 'NNS', 'VBD', 'JJ', 'JJR', 'VBP', 'VBG', 'VB', 'EX', 'VBZ', 'IN'}\n",
      "love: {'NN', 'VBD', 'JJR', 'VBP', 'VB', 'RBR', 'VBN', 'VBZ', 'RB', 'IN'}\n",
      "loveth: {'NN', 'NNS', 'VBD', 'JJ', 'VBP', 'VB', 'VBZ', 'RB', 'FW'}\n",
      "wherewith: {'NN', 'VBD', 'JJ', 'VBP', 'VB', 'VBN', 'VBZ', 'WP', 'IN'}\n",
      "abode: {'NN', 'NNS', 'VBD', 'JJ', 'VBP', 'VB', 'VBN', 'VBZ', 'RB', 'IN'}\n",
      "dost: {'NN', 'VBD', 'JJS', 'JJ', 'VBP', 'VB', 'VBN', 'RB', 'FW'}\n",
      "forgotten: {'NN', 'NNS', 'VBD', 'JJ', 'VBP', 'VB', 'VBN', 'VBZ', 'RB'}\n",
      "speaketh: {'NN', 'VBD', 'JJ', 'VBP', 'VBN', 'PDT', 'VBZ', 'RB', 'FW'}\n",
      "honour: {'NN', 'NNS', 'VBD', 'PRP', 'JJ', 'JJR', 'VBP', 'VB', 'VBN', 'PRP$', 'RB'}\n",
      ":): {'NN', 'NNS', 'VBD', 'JJ', 'IN', 'VBP', '$', 'NNP', 'VBZ', 'FW'}\n",
      "maketh: {'NN', 'NNS', 'VBD', 'PRP', 'JJ', 'VBP', 'VB', 'NNP', 'MD', 'VBZ', 'RB', 'FW'}\n",
      "bringeth: {'NN', 'NNS', 'VBD', 'JJ', 'VBP', 'VB', 'VBZ', 'RB', 'IN'}\n",
      "thrust: {'NN', 'VBD', 'CC', 'JJ', 'VBP', 'VBG', 'VB', 'VBN', 'EX', 'RB'}\n",
      "withal: {'NN', 'VBD', 'JJ', 'JJR', 'VBP', 'VB', 'WRB', 'VBZ', 'RB', 'IN'}\n",
      "turneth: {'NN', 'NNS', 'VBD', 'PRP', 'JJ', 'VBP', 'VB', 'VBZ', 'RB', 'IN'}\n",
      "increaseth: {'NN', 'NNS', 'VBD', 'JJ', 'VBP', 'VB', 'VBN', 'VBZ', 'IN'}\n"
     ]
    }
   ],
   "source": [
    "# create a set as the default entry value\n",
    "tags = defaultdict(set)\n",
    "for word, tag in bible_pos:\n",
    "    tags[word].add(tag)\n",
    "\n",
    "# look at words with more than 8 tags:\n",
    "for word, tag_list in tags.items():\n",
    "    if len(tag_list) > 8:\n",
    "        print(\"{}: {}\".format(word, tag_list))"
   ]
  },
  {
   "cell_type": "code",
   "execution_count": 8,
   "id": "49361a99",
   "metadata": {},
   "outputs": [
    {
     "name": "stdout",
     "output_type": "stream",
     "text": [
      "wherein: {'.', 'DET', 'NOUN', 'ADP', 'ADV', 'VERB', 'CONJ', 'ADJ', 'PRON'}\n",
      "thou: {'.', 'DET', 'NOUN', 'ADP', 'PRT', 'ADV', 'VERB', 'CONJ', 'ADJ', 'PRON'}\n",
      "ye: {'.', 'DET', 'NOUN', 'NUM', 'PRT', 'ADP', 'ADV', 'VERB', 'CONJ', 'ADJ', 'X', 'PRON'}\n",
      "doth: {'DET', 'NOUN', 'ADP', 'PRT', 'ADV', 'VERB', 'CONJ', 'ADJ', 'X'}\n",
      "thee: {'DET', 'NOUN', 'ADP', 'PRT', 'ADV', 'VERB', 'CONJ', 'ADJ', 'PRON'}\n"
     ]
    }
   ],
   "source": [
    "# https://www.ling.upenn.edu/courses/Fall_2003/ling001/penn_treebank_pos.html\n",
    "style = \"en-ptb\"  # penn treebank POS\n",
    "\n",
    "simplify = lambda tag : nltk.map_tag(style, \"universal\", tag)\n",
    "\n",
    "def simple_pos(text):\n",
    "    pos = nltk.pos_tag(text)\n",
    "    return [(word, simplify(tag)) for word, tag in pos]\n",
    "\n",
    "# create a set as the default entry value\n",
    "tags = defaultdict(set)\n",
    "for word, tag in simple_pos(bible_words):\n",
    "    tags[word].add(tag)\n",
    "\n",
    "# look at words with more than 8 tags:\n",
    "for word, tag_list in tags.items():\n",
    "    if len(tag_list) > 8:\n",
    "        print(\"{}: {}\".format(word, tag_list))"
   ]
  },
  {
   "cell_type": "code",
   "execution_count": null,
   "id": "fc7a59af-02c5-44bc-9741-c4793dd2ad7b",
   "metadata": {},
   "outputs": [],
   "source": []
  }
 ],
 "metadata": {
  "kernelspec": {
   "display_name": "Python 3.9.7 64-bit ('base': conda)",
   "language": "python",
   "name": "python397jvsc74a57bd029553384b1b01f6109f5069a08d409f2dc5adeb046ccd0e94d694cc3c1cd07a6"
  },
  "language_info": {
   "codemirror_mode": {
    "name": "ipython",
    "version": 3
   },
   "file_extension": ".py",
   "mimetype": "text/x-python",
   "name": "python",
   "nbconvert_exporter": "python",
   "pygments_lexer": "ipython3",
   "version": "3.9.9"
  }
 },
 "nbformat": 4,
 "nbformat_minor": 5
}
